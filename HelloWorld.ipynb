{
    "metadata": {
        "kernelspec": {
            "name": "python3",
            "display_name": "Python 3",
            "language": "python"
        },
        "language_info": {
            "name": "python",
            "version": "3.8.6",
            "mimetype": "text/x-python",
            "codemirror_mode": {
                "name": "ipython",
                "version": 3
            },
            "pygments_lexer": "ipython3",
            "nbconvert_exporter": "python",
            "file_extension": ".py"
        }
    },
    "nbformat_minor": 2,
    "nbformat": 4,
    "cells": [
        {
            "cell_type": "markdown",
            "source": [
                "Hello World Notebook!"
            ],
            "metadata": {
                "azdata_cell_guid": "ebf5dc6e-b79e-4af2-8fe5-b9e364808ae5"
            }
        },
        {
            "cell_type": "code",
            "source": [
                "for i in range (0, 100):\r\n",
                "    print (\"Hello World %i\" % (i+1))"
            ],
            "metadata": {
                "azdata_cell_guid": "db300390-90c8-4fc8-aa2b-33cd331c4c70",
                "tags": []
            },
            "outputs": [
{
    "name": "stdout",
    "text": "Hello World 1\nHello World 2\nHello World 3\nHello World 4\nHello World 5\nHello World 6\nHello World 7\nHello World 8\nHello World 9\nHello World 10\nHello World 11\nHello World 12\nHello World 13\nHello World 14\nHello World 15\nHello World 16\nHello World 17\nHello World 18\nHello World 19\nHello World 20\nHello World 21\nHello World 22\nHello World 23\nHello World 24\nHello World 25\nHello World 26\nHello World 27\nHello World 28\nHello World 29\nHello World 30\nHello World 31\nHello World 32\nHello World 33\nHello World 34\nHello World 35\nHello World 36\nHello World 37\nHello World 38\nHello World 39\nHello World 40\nHello World 41\nHello World 42\nHello World 43\nHello World 44\nHello World 45\nHello World 46\nHello World 47\nHello World 48\nHello World 49\nHello World 50\nHello World 51\nHello World 52\nHello World 53\nHello World 54\nHello World 55\nHello World 56\nHello World 57\nHello World 58\nHello World 59\nHello World 60\nHello World 61\nHello World 62\nHello World 63\nHello World 64\nHello World 65\nHello World 66\nHello World 67\nHello World 68\nHello World 69\nHello World 70\nHello World 71\nHello World 72\nHello World 73\nHello World 74\nHello World 75\nHello World 76\nHello World 77\nHello World 78\nHello World 79\nHello World 80\nHello World 81\nHello World 82\nHello World 83\nHello World 84\nHello World 85\nHello World 86\nHello World 87\nHello World 88\nHello World 89\nHello World 90\nHello World 91\nHello World 92\nHello World 93\nHello World 94\nHello World 95\nHello World 96\nHello World 97\nHello World 98\nHello World 99\nHello World 100\n",
    "output_type": "stream"
}
],
            "execution_count": 1
        }
    ]
}